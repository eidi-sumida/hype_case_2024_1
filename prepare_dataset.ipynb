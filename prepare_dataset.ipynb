{
 "cells": [
  {
   "cell_type": "code",
   "execution_count": null,
   "id": "1c90a4b6",
   "metadata": {},
   "outputs": [],
   "source": [
    "# == source == \n",
    "#https://www.kaggle.com/datasets/rahulagrawal1025/stackoverflow-survey-demographic-data?resource=download"
   ]
  },
  {
   "cell_type": "code",
   "execution_count": 72,
   "id": "c72287f2",
   "metadata": {},
   "outputs": [],
   "source": [
    "# == biliotecas == \n",
    "\n",
    "import pandas as pd\n",
    "import numpy as np\n",
    "from random import randint\n",
    "from tqdm import tqdm, tqdm_notebook\n",
    "import seaborn as sns\n",
    "from matplotlib import pyplot as plt\n",
    "from sklearn.metrics import confusion_matrix\n",
    "from sklearn.preprocessing import OneHotEncoder, LabelEncoder\n",
    "from xgboost import XGBClassifier\n",
    "from sklearn.model_selection import train_test_split,RandomizedSearchCV\n",
    "from sklearn.cluster import KMeans\n",
    "tqdm.pandas()\n",
    "from IPython.core.interactiveshell import InteractiveShell\n",
    "InteractiveShell.ast_node_interactivity = \"all\""
   ]
  },
  {
   "cell_type": "code",
   "execution_count": 73,
   "id": "8e219e61",
   "metadata": {},
   "outputs": [],
   "source": [
    "# == ler os dados ==\n",
    "\n",
    "raw = pd.read_csv('dataset/raw.csv')"
   ]
  },
  {
   "cell_type": "code",
   "execution_count": 74,
   "id": "90f91fff",
   "metadata": {},
   "outputs": [],
   "source": [
    "# == dropar colunas de ResponseId e Unnamed == \n",
    "\n",
    "raw.drop(columns={'ResponseId', 'Unnamed: 16', 'Unnamed: 17'}, inplace=True)"
   ]
  },
  {
   "cell_type": "code",
   "execution_count": 75,
   "id": "c41a3de0",
   "metadata": {},
   "outputs": [],
   "source": [
    "# == renomear colunas == \n",
    "\n",
    "raw = raw.rename(columns={\n",
    "    'ResponseId': 'id',\n",
    "    'Developer': 'status_desenvolvedor',\n",
    "    'Country': 'pais',\n",
    "    'Continent': 'continente',\n",
    "    'Age': 'faixa_idade',\n",
    "    'RemoteWork': 'modalidade_exercicio',\n",
    "    'Employment': 'contrato_trabalho',\n",
    "    'Student': 'sou_estudante',\n",
    "    'Retired': 'sou_aposentado',\n",
    "    'Work Looking': 'buscando_trabalho',\n",
    "    'Freelance': 'sou_freelancer',\n",
    "    'EdLevel': 'nivel_educacao',\n",
    "    'Personal Coding Interval': 'anos_experiencia_pessoal',\n",
    "    'Professional Coding Interval': 'anos_experiencia_profissional',\n",
    "    ' Salary ': 'salario',\n",
    "    'Salary Category': 'categoria_salario'\n",
    "})"
   ]
  },
  {
   "cell_type": "code",
   "execution_count": 76,
   "id": "ffa5d2d4",
   "metadata": {},
   "outputs": [
    {
     "data": {
      "text/html": [
       "<div>\n",
       "<style scoped>\n",
       "    .dataframe tbody tr th:only-of-type {\n",
       "        vertical-align: middle;\n",
       "    }\n",
       "\n",
       "    .dataframe tbody tr th {\n",
       "        vertical-align: top;\n",
       "    }\n",
       "\n",
       "    .dataframe thead th {\n",
       "        text-align: right;\n",
       "    }\n",
       "</style>\n",
       "<table border=\"1\" class=\"dataframe\">\n",
       "  <thead>\n",
       "    <tr style=\"text-align: right;\">\n",
       "      <th></th>\n",
       "      <th>status_desenvolvedor</th>\n",
       "      <th>pais</th>\n",
       "      <th>continente</th>\n",
       "      <th>faixa_idade</th>\n",
       "      <th>modalidade_exercicio</th>\n",
       "      <th>contrato_trabalho</th>\n",
       "      <th>sou_estudante</th>\n",
       "      <th>sou_aposentado</th>\n",
       "      <th>sou_freelancer</th>\n",
       "      <th>buscando_trabalho</th>\n",
       "      <th>nivel_educacao</th>\n",
       "      <th>anos_experiencia_pessoal</th>\n",
       "      <th>anos_experiencia_profissional</th>\n",
       "      <th>salario</th>\n",
       "      <th>categoria_salario</th>\n",
       "    </tr>\n",
       "  </thead>\n",
       "  <tbody>\n",
       "    <tr>\n",
       "      <th>0</th>\n",
       "      <td>0</td>\n",
       "      <td>1211</td>\n",
       "      <td>1211</td>\n",
       "      <td>449</td>\n",
       "      <td>15374</td>\n",
       "      <td>0</td>\n",
       "      <td>0</td>\n",
       "      <td>0</td>\n",
       "      <td>0</td>\n",
       "      <td>0</td>\n",
       "      <td>1211</td>\n",
       "      <td>0</td>\n",
       "      <td>0</td>\n",
       "      <td>0</td>\n",
       "      <td>41165</td>\n",
       "    </tr>\n",
       "  </tbody>\n",
       "</table>\n",
       "</div>"
      ],
      "text/plain": [
       "   status_desenvolvedor  pais  continente  faixa_idade  modalidade_exercicio  \\\n",
       "0                     0  1211        1211          449                 15374   \n",
       "\n",
       "   contrato_trabalho  sou_estudante  sou_aposentado  sou_freelancer  \\\n",
       "0                  0              0               0               0   \n",
       "\n",
       "   buscando_trabalho  nivel_educacao  anos_experiencia_pessoal  \\\n",
       "0                  0            1211                         0   \n",
       "\n",
       "   anos_experiencia_profissional  salario  categoria_salario  \n",
       "0                              0        0              41165  "
      ]
     },
     "execution_count": 76,
     "metadata": {},
     "output_type": "execute_result"
    }
   ],
   "source": [
    "# == integridade das colunas ==\n",
    "\n",
    "raw.isna().sum().to_frame().T"
   ]
  },
  {
   "cell_type": "code",
   "execution_count": 77,
   "id": "f75c6197",
   "metadata": {},
   "outputs": [],
   "source": [
    "# == dropar linhas onde [pais, continente, nivel_educacao, faixa_idade, modalidade_trabalho] é nan ==\n",
    "\n",
    "raw = raw.dropna(subset=['pais', 'continente', 'nivel_educacao', 'faixa_idade', 'modalidade_exercicio'])"
   ]
  },
  {
   "cell_type": "code",
   "execution_count": 78,
   "id": "84cc9dc4",
   "metadata": {},
   "outputs": [
    {
     "data": {
      "text/html": [
       "<div>\n",
       "<style scoped>\n",
       "    .dataframe tbody tr th:only-of-type {\n",
       "        vertical-align: middle;\n",
       "    }\n",
       "\n",
       "    .dataframe tbody tr th {\n",
       "        vertical-align: top;\n",
       "    }\n",
       "\n",
       "    .dataframe thead th {\n",
       "        text-align: right;\n",
       "    }\n",
       "</style>\n",
       "<table border=\"1\" class=\"dataframe\">\n",
       "  <thead>\n",
       "    <tr style=\"text-align: right;\">\n",
       "      <th></th>\n",
       "      <th>status_desenvolvedor</th>\n",
       "      <th>pais</th>\n",
       "      <th>continente</th>\n",
       "      <th>faixa_idade</th>\n",
       "      <th>modalidade_exercicio</th>\n",
       "      <th>contrato_trabalho</th>\n",
       "      <th>sou_estudante</th>\n",
       "      <th>sou_aposentado</th>\n",
       "      <th>sou_freelancer</th>\n",
       "      <th>buscando_trabalho</th>\n",
       "      <th>nivel_educacao</th>\n",
       "      <th>anos_experiencia_pessoal</th>\n",
       "      <th>anos_experiencia_profissional</th>\n",
       "      <th>salario</th>\n",
       "      <th>categoria_salario</th>\n",
       "    </tr>\n",
       "  </thead>\n",
       "  <tbody>\n",
       "    <tr>\n",
       "      <th>0</th>\n",
       "      <td>0</td>\n",
       "      <td>0</td>\n",
       "      <td>0</td>\n",
       "      <td>0</td>\n",
       "      <td>0</td>\n",
       "      <td>0</td>\n",
       "      <td>0</td>\n",
       "      <td>0</td>\n",
       "      <td>0</td>\n",
       "      <td>0</td>\n",
       "      <td>0</td>\n",
       "      <td>0</td>\n",
       "      <td>0</td>\n",
       "      <td>0</td>\n",
       "      <td>25763</td>\n",
       "    </tr>\n",
       "  </tbody>\n",
       "</table>\n",
       "</div>"
      ],
      "text/plain": [
       "   status_desenvolvedor  pais  continente  faixa_idade  modalidade_exercicio  \\\n",
       "0                     0     0           0            0                     0   \n",
       "\n",
       "   contrato_trabalho  sou_estudante  sou_aposentado  sou_freelancer  \\\n",
       "0                  0              0               0               0   \n",
       "\n",
       "   buscando_trabalho  nivel_educacao  anos_experiencia_pessoal  \\\n",
       "0                  0               0                         0   \n",
       "\n",
       "   anos_experiencia_profissional  salario  categoria_salario  \n",
       "0                              0        0              25763  "
      ]
     },
     "execution_count": 78,
     "metadata": {},
     "output_type": "execute_result"
    }
   ],
   "source": [
    "# == integridade das colunas ==\n",
    "\n",
    "raw.isna().sum().to_frame().T"
   ]
  },
  {
   "cell_type": "code",
   "execution_count": 79,
   "id": "3ff4ebfb",
   "metadata": {
    "scrolled": true
   },
   "outputs": [
    {
     "data": {
      "text/html": [
       "<div>\n",
       "<style scoped>\n",
       "    .dataframe tbody tr th:only-of-type {\n",
       "        vertical-align: middle;\n",
       "    }\n",
       "\n",
       "    .dataframe tbody tr th {\n",
       "        vertical-align: top;\n",
       "    }\n",
       "\n",
       "    .dataframe thead th {\n",
       "        text-align: right;\n",
       "    }\n",
       "</style>\n",
       "<table border=\"1\" class=\"dataframe\">\n",
       "  <thead>\n",
       "    <tr style=\"text-align: right;\">\n",
       "      <th></th>\n",
       "      <th>Full Time</th>\n",
       "      <th>Part Time</th>\n",
       "      <th>Veteran</th>\n",
       "      <th>Hobby</th>\n",
       "      <th>Learning</th>\n",
       "    </tr>\n",
       "  </thead>\n",
       "  <tbody>\n",
       "    <tr>\n",
       "      <th>status_desenvolvedor</th>\n",
       "      <td>63537</td>\n",
       "      <td>6554</td>\n",
       "      <td>1363</td>\n",
       "      <td>1127</td>\n",
       "      <td>1098</td>\n",
       "    </tr>\n",
       "  </tbody>\n",
       "</table>\n",
       "</div>"
      ],
      "text/plain": [
       "                      Full Time  Part Time  Veteran  Hobby  Learning\n",
       "status_desenvolvedor      63537       6554     1363   1127      1098"
      ]
     },
     "execution_count": 79,
     "metadata": {},
     "output_type": "execute_result"
    },
    {
     "data": {
      "text/html": [
       "<div>\n",
       "<style scoped>\n",
       "    .dataframe tbody tr th:only-of-type {\n",
       "        vertical-align: middle;\n",
       "    }\n",
       "\n",
       "    .dataframe tbody tr th {\n",
       "        vertical-align: top;\n",
       "    }\n",
       "\n",
       "    .dataframe thead th {\n",
       "        text-align: right;\n",
       "    }\n",
       "</style>\n",
       "<table border=\"1\" class=\"dataframe\">\n",
       "  <thead>\n",
       "    <tr style=\"text-align: right;\">\n",
       "      <th></th>\n",
       "      <th>USA</th>\n",
       "      <th>Germany</th>\n",
       "      <th>UK</th>\n",
       "      <th>India</th>\n",
       "      <th>Canada</th>\n",
       "      <th>France</th>\n",
       "      <th>Netherlands</th>\n",
       "      <th>Poland</th>\n",
       "      <th>Brazil</th>\n",
       "      <th>Australia</th>\n",
       "      <th>...</th>\n",
       "      <th>Palau</th>\n",
       "      <th>Guyana</th>\n",
       "      <th>Monaco</th>\n",
       "      <th>Laos</th>\n",
       "      <th>North Korea</th>\n",
       "      <th>Brunei Darussalam</th>\n",
       "      <th>Liechtenstein</th>\n",
       "      <th>Timor-Leste</th>\n",
       "      <th>Samoa</th>\n",
       "      <th>San Marino</th>\n",
       "    </tr>\n",
       "  </thead>\n",
       "  <tbody>\n",
       "    <tr>\n",
       "      <th>pais</th>\n",
       "      <td>16058</td>\n",
       "      <td>6230</td>\n",
       "      <td>4773</td>\n",
       "      <td>4141</td>\n",
       "      <td>2977</td>\n",
       "      <td>2525</td>\n",
       "      <td>2042</td>\n",
       "      <td>2038</td>\n",
       "      <td>1805</td>\n",
       "      <td>1764</td>\n",
       "      <td>...</td>\n",
       "      <td>3</td>\n",
       "      <td>3</td>\n",
       "      <td>2</td>\n",
       "      <td>2</td>\n",
       "      <td>2</td>\n",
       "      <td>2</td>\n",
       "      <td>1</td>\n",
       "      <td>1</td>\n",
       "      <td>1</td>\n",
       "      <td>1</td>\n",
       "    </tr>\n",
       "  </tbody>\n",
       "</table>\n",
       "<p>1 rows × 132 columns</p>\n",
       "</div>"
      ],
      "text/plain": [
       "        USA  Germany    UK  India  Canada  France  Netherlands  Poland  \\\n",
       "pais  16058     6230  4773   4141    2977    2525         2042    2038   \n",
       "\n",
       "      Brazil  Australia  ...  Palau  Guyana  Monaco  Laos  North Korea  \\\n",
       "pais    1805       1764  ...      3       3       2     2            2   \n",
       "\n",
       "      Brunei Darussalam  Liechtenstein  Timor-Leste  Samoa  San Marino  \n",
       "pais                  2              1            1      1           1  \n",
       "\n",
       "[1 rows x 132 columns]"
      ]
     },
     "execution_count": 79,
     "metadata": {},
     "output_type": "execute_result"
    },
    {
     "data": {
      "text/html": [
       "<div>\n",
       "<style scoped>\n",
       "    .dataframe tbody tr th:only-of-type {\n",
       "        vertical-align: middle;\n",
       "    }\n",
       "\n",
       "    .dataframe tbody tr th {\n",
       "        vertical-align: top;\n",
       "    }\n",
       "\n",
       "    .dataframe thead th {\n",
       "        text-align: right;\n",
       "    }\n",
       "</style>\n",
       "<table border=\"1\" class=\"dataframe\">\n",
       "  <thead>\n",
       "    <tr style=\"text-align: right;\">\n",
       "      <th></th>\n",
       "      <th>Europe</th>\n",
       "      <th>North America</th>\n",
       "      <th>Asia</th>\n",
       "      <th>South America</th>\n",
       "      <th>Oceania</th>\n",
       "      <th>Africa</th>\n",
       "      <th>Nomadic</th>\n",
       "    </tr>\n",
       "  </thead>\n",
       "  <tbody>\n",
       "    <tr>\n",
       "      <th>continente</th>\n",
       "      <td>34200</td>\n",
       "      <td>19918</td>\n",
       "      <td>12014</td>\n",
       "      <td>3385</td>\n",
       "      <td>2363</td>\n",
       "      <td>1758</td>\n",
       "      <td>41</td>\n",
       "    </tr>\n",
       "  </tbody>\n",
       "</table>\n",
       "</div>"
      ],
      "text/plain": [
       "            Europe  North America   Asia  South America  Oceania  Africa  \\\n",
       "continente   34200          19918  12014           3385     2363    1758   \n",
       "\n",
       "            Nomadic  \n",
       "continente       41  "
      ]
     },
     "execution_count": 79,
     "metadata": {},
     "output_type": "execute_result"
    },
    {
     "data": {
      "text/html": [
       "<div>\n",
       "<style scoped>\n",
       "    .dataframe tbody tr th:only-of-type {\n",
       "        vertical-align: middle;\n",
       "    }\n",
       "\n",
       "    .dataframe tbody tr th {\n",
       "        vertical-align: top;\n",
       "    }\n",
       "\n",
       "    .dataframe thead th {\n",
       "        text-align: right;\n",
       "    }\n",
       "</style>\n",
       "<table border=\"1\" class=\"dataframe\">\n",
       "  <thead>\n",
       "    <tr style=\"text-align: right;\">\n",
       "      <th></th>\n",
       "      <th>Adults</th>\n",
       "      <th>Youth</th>\n",
       "      <th>Seniors</th>\n",
       "      <th>Baby</th>\n",
       "    </tr>\n",
       "  </thead>\n",
       "  <tbody>\n",
       "    <tr>\n",
       "      <th>faixa_idade</th>\n",
       "      <td>58504</td>\n",
       "      <td>10853</td>\n",
       "      <td>3728</td>\n",
       "      <td>594</td>\n",
       "    </tr>\n",
       "  </tbody>\n",
       "</table>\n",
       "</div>"
      ],
      "text/plain": [
       "             Adults  Youth  Seniors  Baby\n",
       "faixa_idade   58504  10853     3728   594"
      ]
     },
     "execution_count": 79,
     "metadata": {},
     "output_type": "execute_result"
    },
    {
     "data": {
      "text/html": [
       "<div>\n",
       "<style scoped>\n",
       "    .dataframe tbody tr th:only-of-type {\n",
       "        vertical-align: middle;\n",
       "    }\n",
       "\n",
       "    .dataframe tbody tr th {\n",
       "        vertical-align: top;\n",
       "    }\n",
       "\n",
       "    .dataframe thead th {\n",
       "        text-align: right;\n",
       "    }\n",
       "</style>\n",
       "<table border=\"1\" class=\"dataframe\">\n",
       "  <thead>\n",
       "    <tr style=\"text-align: right;\">\n",
       "      <th></th>\n",
       "      <th>Hybrid</th>\n",
       "      <th>Remote</th>\n",
       "      <th>In-person</th>\n",
       "    </tr>\n",
       "  </thead>\n",
       "  <tbody>\n",
       "    <tr>\n",
       "      <th>modalidade_exercicio</th>\n",
       "      <td>31087</td>\n",
       "      <td>30502</td>\n",
       "      <td>12090</td>\n",
       "    </tr>\n",
       "  </tbody>\n",
       "</table>\n",
       "</div>"
      ],
      "text/plain": [
       "                      Hybrid  Remote  In-person\n",
       "modalidade_exercicio   31087   30502      12090"
      ]
     },
     "execution_count": 79,
     "metadata": {},
     "output_type": "execute_result"
    },
    {
     "data": {
      "text/html": [
       "<div>\n",
       "<style scoped>\n",
       "    .dataframe tbody tr th:only-of-type {\n",
       "        vertical-align: middle;\n",
       "    }\n",
       "\n",
       "    .dataframe tbody tr th {\n",
       "        vertical-align: top;\n",
       "    }\n",
       "\n",
       "    .dataframe thead th {\n",
       "        text-align: right;\n",
       "    }\n",
       "</style>\n",
       "<table border=\"1\" class=\"dataframe\">\n",
       "  <thead>\n",
       "    <tr style=\"text-align: right;\">\n",
       "      <th></th>\n",
       "      <th>Full-time</th>\n",
       "      <th>Unemployed</th>\n",
       "      <th>Part-time</th>\n",
       "    </tr>\n",
       "  </thead>\n",
       "  <tbody>\n",
       "    <tr>\n",
       "      <th>contrato_trabalho</th>\n",
       "      <td>50723</td>\n",
       "      <td>18184</td>\n",
       "      <td>4772</td>\n",
       "    </tr>\n",
       "  </tbody>\n",
       "</table>\n",
       "</div>"
      ],
      "text/plain": [
       "                   Full-time  Unemployed  Part-time\n",
       "contrato_trabalho      50723       18184       4772"
      ]
     },
     "execution_count": 79,
     "metadata": {},
     "output_type": "execute_result"
    },
    {
     "data": {
      "text/html": [
       "<div>\n",
       "<style scoped>\n",
       "    .dataframe tbody tr th:only-of-type {\n",
       "        vertical-align: middle;\n",
       "    }\n",
       "\n",
       "    .dataframe tbody tr th {\n",
       "        vertical-align: top;\n",
       "    }\n",
       "\n",
       "    .dataframe thead th {\n",
       "        text-align: right;\n",
       "    }\n",
       "</style>\n",
       "<table border=\"1\" class=\"dataframe\">\n",
       "  <thead>\n",
       "    <tr style=\"text-align: right;\">\n",
       "      <th></th>\n",
       "      <th>NO</th>\n",
       "      <th>YES</th>\n",
       "    </tr>\n",
       "  </thead>\n",
       "  <tbody>\n",
       "    <tr>\n",
       "      <th>sou_estudante</th>\n",
       "      <td>61660</td>\n",
       "      <td>12019</td>\n",
       "    </tr>\n",
       "  </tbody>\n",
       "</table>\n",
       "</div>"
      ],
      "text/plain": [
       "                  NO    YES\n",
       "sou_estudante  61660  12019"
      ]
     },
     "execution_count": 79,
     "metadata": {},
     "output_type": "execute_result"
    },
    {
     "data": {
      "text/html": [
       "<div>\n",
       "<style scoped>\n",
       "    .dataframe tbody tr th:only-of-type {\n",
       "        vertical-align: middle;\n",
       "    }\n",
       "\n",
       "    .dataframe tbody tr th {\n",
       "        vertical-align: top;\n",
       "    }\n",
       "\n",
       "    .dataframe thead th {\n",
       "        text-align: right;\n",
       "    }\n",
       "</style>\n",
       "<table border=\"1\" class=\"dataframe\">\n",
       "  <thead>\n",
       "    <tr style=\"text-align: right;\">\n",
       "      <th></th>\n",
       "      <th>NO</th>\n",
       "      <th>YES</th>\n",
       "    </tr>\n",
       "  </thead>\n",
       "  <tbody>\n",
       "    <tr>\n",
       "      <th>sou_aposentado</th>\n",
       "      <td>73073</td>\n",
       "      <td>606</td>\n",
       "    </tr>\n",
       "  </tbody>\n",
       "</table>\n",
       "</div>"
      ],
      "text/plain": [
       "                   NO  YES\n",
       "sou_aposentado  73073  606"
      ]
     },
     "execution_count": 79,
     "metadata": {},
     "output_type": "execute_result"
    },
    {
     "data": {
      "text/html": [
       "<div>\n",
       "<style scoped>\n",
       "    .dataframe tbody tr th:only-of-type {\n",
       "        vertical-align: middle;\n",
       "    }\n",
       "\n",
       "    .dataframe tbody tr th {\n",
       "        vertical-align: top;\n",
       "    }\n",
       "\n",
       "    .dataframe thead th {\n",
       "        text-align: right;\n",
       "    }\n",
       "</style>\n",
       "<table border=\"1\" class=\"dataframe\">\n",
       "  <thead>\n",
       "    <tr style=\"text-align: right;\">\n",
       "      <th></th>\n",
       "      <th>No</th>\n",
       "      <th>Yes</th>\n",
       "    </tr>\n",
       "  </thead>\n",
       "  <tbody>\n",
       "    <tr>\n",
       "      <th>sou_freelancer</th>\n",
       "      <td>59747</td>\n",
       "      <td>13932</td>\n",
       "    </tr>\n",
       "  </tbody>\n",
       "</table>\n",
       "</div>"
      ],
      "text/plain": [
       "                   No    Yes\n",
       "sou_freelancer  59747  13932"
      ]
     },
     "execution_count": 79,
     "metadata": {},
     "output_type": "execute_result"
    },
    {
     "data": {
      "text/html": [
       "<div>\n",
       "<style scoped>\n",
       "    .dataframe tbody tr th:only-of-type {\n",
       "        vertical-align: middle;\n",
       "    }\n",
       "\n",
       "    .dataframe tbody tr th {\n",
       "        vertical-align: top;\n",
       "    }\n",
       "\n",
       "    .dataframe thead th {\n",
       "        text-align: right;\n",
       "    }\n",
       "</style>\n",
       "<table border=\"1\" class=\"dataframe\">\n",
       "  <thead>\n",
       "    <tr style=\"text-align: right;\">\n",
       "      <th></th>\n",
       "      <th>NO</th>\n",
       "      <th>YES</th>\n",
       "    </tr>\n",
       "  </thead>\n",
       "  <tbody>\n",
       "    <tr>\n",
       "      <th>buscando_trabalho</th>\n",
       "      <td>72910</td>\n",
       "      <td>769</td>\n",
       "    </tr>\n",
       "  </tbody>\n",
       "</table>\n",
       "</div>"
      ],
      "text/plain": [
       "                      NO  YES\n",
       "buscando_trabalho  72910  769"
      ]
     },
     "execution_count": 79,
     "metadata": {},
     "output_type": "execute_result"
    },
    {
     "data": {
      "text/html": [
       "<div>\n",
       "<style scoped>\n",
       "    .dataframe tbody tr th:only-of-type {\n",
       "        vertical-align: middle;\n",
       "    }\n",
       "\n",
       "    .dataframe tbody tr th {\n",
       "        vertical-align: top;\n",
       "    }\n",
       "\n",
       "    .dataframe thead th {\n",
       "        text-align: right;\n",
       "    }\n",
       "</style>\n",
       "<table border=\"1\" class=\"dataframe\">\n",
       "  <thead>\n",
       "    <tr style=\"text-align: right;\">\n",
       "      <th></th>\n",
       "      <th>Bachelor</th>\n",
       "      <th>Masters</th>\n",
       "      <th>Self-Study</th>\n",
       "      <th>High School</th>\n",
       "      <th>Professional</th>\n",
       "      <th>Associate</th>\n",
       "      <th>Something else</th>\n",
       "      <th>School</th>\n",
       "    </tr>\n",
       "  </thead>\n",
       "  <tbody>\n",
       "    <tr>\n",
       "      <th>nivel_educacao</th>\n",
       "      <td>33180</td>\n",
       "      <td>19326</td>\n",
       "      <td>9296</td>\n",
       "      <td>4361</td>\n",
       "      <td>3594</td>\n",
       "      <td>2405</td>\n",
       "      <td>942</td>\n",
       "      <td>575</td>\n",
       "    </tr>\n",
       "  </tbody>\n",
       "</table>\n",
       "</div>"
      ],
      "text/plain": [
       "                Bachelor  Masters  Self-Study  High School  Professional  \\\n",
       "nivel_educacao     33180    19326        9296         4361          3594   \n",
       "\n",
       "                Associate  Something else  School  \n",
       "nivel_educacao       2405             942     575  "
      ]
     },
     "execution_count": 79,
     "metadata": {},
     "output_type": "execute_result"
    },
    {
     "data": {
      "text/html": [
       "<div>\n",
       "<style scoped>\n",
       "    .dataframe tbody tr th:only-of-type {\n",
       "        vertical-align: middle;\n",
       "    }\n",
       "\n",
       "    .dataframe tbody tr th {\n",
       "        vertical-align: top;\n",
       "    }\n",
       "\n",
       "    .dataframe thead th {\n",
       "        text-align: right;\n",
       "    }\n",
       "</style>\n",
       "<table border=\"1\" class=\"dataframe\">\n",
       "  <thead>\n",
       "    <tr style=\"text-align: right;\">\n",
       "      <th></th>\n",
       "      <th>5-8</th>\n",
       "      <th>9-12</th>\n",
       "      <th>13-16</th>\n",
       "      <th>17-20</th>\n",
       "      <th>1-4</th>\n",
       "      <th>25-28</th>\n",
       "      <th>21-24</th>\n",
       "      <th>29-32</th>\n",
       "      <th>33-36</th>\n",
       "      <th>37-40</th>\n",
       "      <th>41-44</th>\n",
       "      <th>45-48</th>\n",
       "      <th>0</th>\n",
       "      <th>49-52</th>\n",
       "    </tr>\n",
       "  </thead>\n",
       "  <tbody>\n",
       "    <tr>\n",
       "      <th>anos_experiencia_pessoal</th>\n",
       "      <td>15566</td>\n",
       "      <td>14370</td>\n",
       "      <td>10648</td>\n",
       "      <td>7831</td>\n",
       "      <td>7109</td>\n",
       "      <td>4653</td>\n",
       "      <td>4142</td>\n",
       "      <td>3000</td>\n",
       "      <td>2131</td>\n",
       "      <td>2094</td>\n",
       "      <td>918</td>\n",
       "      <td>526</td>\n",
       "      <td>367</td>\n",
       "      <td>324</td>\n",
       "    </tr>\n",
       "  </tbody>\n",
       "</table>\n",
       "</div>"
      ],
      "text/plain": [
       "                            5-8   9-12  13-16  17-20   1-4  25-28  21-24  \\\n",
       "anos_experiencia_pessoal  15566  14370  10648   7831  7109   4653   4142   \n",
       "\n",
       "                          29-32  33-36  37-40  41-44  45-48    0  49-52  \n",
       "anos_experiencia_pessoal   3000   2131   2094    918    526  367    324  "
      ]
     },
     "execution_count": 79,
     "metadata": {},
     "output_type": "execute_result"
    },
    {
     "data": {
      "text/html": [
       "<div>\n",
       "<style scoped>\n",
       "    .dataframe tbody tr th:only-of-type {\n",
       "        vertical-align: middle;\n",
       "    }\n",
       "\n",
       "    .dataframe tbody tr th {\n",
       "        vertical-align: top;\n",
       "    }\n",
       "\n",
       "    .dataframe thead th {\n",
       "        text-align: right;\n",
       "    }\n",
       "</style>\n",
       "<table border=\"1\" class=\"dataframe\">\n",
       "  <thead>\n",
       "    <tr style=\"text-align: right;\">\n",
       "      <th></th>\n",
       "      <th>1-4</th>\n",
       "      <th>5-8</th>\n",
       "      <th>9-12</th>\n",
       "      <th>0</th>\n",
       "      <th>13-16</th>\n",
       "      <th>17-20</th>\n",
       "      <th>21-24</th>\n",
       "      <th>25-28</th>\n",
       "      <th>29-32</th>\n",
       "      <th>33-36</th>\n",
       "      <th>37-40</th>\n",
       "      <th>41-44</th>\n",
       "      <th>45-48</th>\n",
       "      <th>49-52</th>\n",
       "    </tr>\n",
       "  </thead>\n",
       "  <tbody>\n",
       "    <tr>\n",
       "      <th>anos_experiencia_profissional</th>\n",
       "      <td>17109</td>\n",
       "      <td>15343</td>\n",
       "      <td>11105</td>\n",
       "      <td>8217</td>\n",
       "      <td>6982</td>\n",
       "      <td>5184</td>\n",
       "      <td>3186</td>\n",
       "      <td>2793</td>\n",
       "      <td>1565</td>\n",
       "      <td>1050</td>\n",
       "      <td>673</td>\n",
       "      <td>235</td>\n",
       "      <td>142</td>\n",
       "      <td>95</td>\n",
       "    </tr>\n",
       "  </tbody>\n",
       "</table>\n",
       "</div>"
      ],
      "text/plain": [
       "                                 1-4    5-8   9-12     0  13-16  17-20  21-24  \\\n",
       "anos_experiencia_profissional  17109  15343  11105  8217   6982   5184   3186   \n",
       "\n",
       "                               25-28  29-32  33-36  37-40  41-44  45-48  49-52  \n",
       "anos_experiencia_profissional   2793   1565   1050    673    235    142     95  "
      ]
     },
     "execution_count": 79,
     "metadata": {},
     "output_type": "execute_result"
    },
    {
     "data": {
      "text/html": [
       "<div>\n",
       "<style scoped>\n",
       "    .dataframe tbody tr th:only-of-type {\n",
       "        vertical-align: middle;\n",
       "    }\n",
       "\n",
       "    .dataframe tbody tr th {\n",
       "        vertical-align: top;\n",
       "    }\n",
       "\n",
       "    .dataframe thead th {\n",
       "        text-align: right;\n",
       "    }\n",
       "</style>\n",
       "<table border=\"1\" class=\"dataframe\">\n",
       "  <thead>\n",
       "    <tr style=\"text-align: right;\">\n",
       "      <th></th>\n",
       "      <th>NA</th>\n",
       "      <th>64,254</th>\n",
       "      <th>53,545</th>\n",
       "      <th>150,000</th>\n",
       "      <th>74,963</th>\n",
       "      <th>200,000</th>\n",
       "      <th>85,672</th>\n",
       "      <th>120,000</th>\n",
       "      <th>107,090</th>\n",
       "      <th>42,836</th>\n",
       "      <th>...</th>\n",
       "      <th>195,800</th>\n",
       "      <th>262,604</th>\n",
       "      <th>216,822</th>\n",
       "      <th>6,167</th>\n",
       "      <th>107,946</th>\n",
       "      <th>44,322</th>\n",
       "      <th>701,382</th>\n",
       "      <th>16,794</th>\n",
       "      <th>398,000</th>\n",
       "      <th>16,917</th>\n",
       "    </tr>\n",
       "  </thead>\n",
       "  <tbody>\n",
       "    <tr>\n",
       "      <th>salario</th>\n",
       "      <td>25763</td>\n",
       "      <td>781</td>\n",
       "      <td>615</td>\n",
       "      <td>585</td>\n",
       "      <td>556</td>\n",
       "      <td>556</td>\n",
       "      <td>532</td>\n",
       "      <td>483</td>\n",
       "      <td>463</td>\n",
       "      <td>420</td>\n",
       "      <td>...</td>\n",
       "      <td>1</td>\n",
       "      <td>1</td>\n",
       "      <td>1</td>\n",
       "      <td>1</td>\n",
       "      <td>1</td>\n",
       "      <td>1</td>\n",
       "      <td>1</td>\n",
       "      <td>1</td>\n",
       "      <td>1</td>\n",
       "      <td>1</td>\n",
       "    </tr>\n",
       "  </tbody>\n",
       "</table>\n",
       "<p>1 rows × 8771 columns</p>\n",
       "</div>"
      ],
      "text/plain": [
       "           NA    64,254    53,545    150,000    74,963    200,000    85,672   \\\n",
       "salario  25763       781       615        585       556        556       532   \n",
       "\n",
       "          120,000    107,090    42,836   ...   195,800    262,604    216,822   \\\n",
       "salario        483        463       420  ...          1          1          1   \n",
       "\n",
       "          6,167    107,946    44,322    701,382    16,794    398,000   \\\n",
       "salario        1          1         1          1         1          1   \n",
       "\n",
       "          16,917   \n",
       "salario         1  \n",
       "\n",
       "[1 rows x 8771 columns]"
      ]
     },
     "execution_count": 79,
     "metadata": {},
     "output_type": "execute_result"
    },
    {
     "data": {
      "text/html": [
       "<div>\n",
       "<style scoped>\n",
       "    .dataframe tbody tr th:only-of-type {\n",
       "        vertical-align: middle;\n",
       "    }\n",
       "\n",
       "    .dataframe tbody tr th {\n",
       "        vertical-align: top;\n",
       "    }\n",
       "\n",
       "    .dataframe thead th {\n",
       "        text-align: right;\n",
       "    }\n",
       "</style>\n",
       "<table border=\"1\" class=\"dataframe\">\n",
       "  <thead>\n",
       "    <tr style=\"text-align: right;\">\n",
       "      <th></th>\n",
       "      <th>Mid</th>\n",
       "      <th>High</th>\n",
       "      <th>Very High</th>\n",
       "      <th>Low</th>\n",
       "      <th>Very Low</th>\n",
       "    </tr>\n",
       "  </thead>\n",
       "  <tbody>\n",
       "    <tr>\n",
       "      <th>categoria_salario</th>\n",
       "      <td>22537</td>\n",
       "      <td>18703</td>\n",
       "      <td>3250</td>\n",
       "      <td>2745</td>\n",
       "      <td>681</td>\n",
       "    </tr>\n",
       "  </tbody>\n",
       "</table>\n",
       "</div>"
      ],
      "text/plain": [
       "                     Mid   High  Very High   Low  Very Low\n",
       "categoria_salario  22537  18703       3250  2745       681"
      ]
     },
     "execution_count": 79,
     "metadata": {},
     "output_type": "execute_result"
    }
   ],
   "source": [
    "# == ver as colunas faltantes sobre modalidade_trabalho ==\n",
    "\n",
    "for col in raw.columns:\n",
    "    raw[col].value_counts().to_frame().T"
   ]
  },
  {
   "cell_type": "code",
   "execution_count": 80,
   "id": "5743550e",
   "metadata": {},
   "outputs": [],
   "source": [
    "# == tratar coluna de salário ==\n",
    "\n",
    "raw.salario = raw.salario.astype(str)\n",
    "raw.salario = raw.salario.str.replace(',', '')\n",
    "raw.salario = raw.salario.str.replace('NA', '0')\n",
    "raw.salario = raw.salario.astype(int)"
   ]
  },
  {
   "cell_type": "code",
   "execution_count": 81,
   "id": "8d7c5637",
   "metadata": {},
   "outputs": [],
   "source": [
    "# == dropar colunas de intervalo de anos_experiencia == \n",
    "\n",
    "raw.loc[raw.anos_experiencia_pessoal == '0', 'anos_experiencia_pessoal'] = '0-0'\n",
    "raw.loc[raw.anos_experiencia_profissional == '0', 'anos_experiencia_profissional'] = '0-0'"
   ]
  },
  {
   "cell_type": "code",
   "execution_count": 82,
   "id": "827260ee",
   "metadata": {},
   "outputs": [],
   "source": [
    "# == tratar colunas de anos_experiencia == \n",
    "\n",
    "raw['intervalo_min_anos_exp_pessoal'] = raw.anos_experiencia_pessoal.str.split('-').str[0].astype(int)\n",
    "raw['intervalo_max_anos_exp_pessoal'] = raw.anos_experiencia_pessoal.str.split('-').str[1].astype(int)\n",
    "raw['intervalo_min_anos_exp_profissional'] = raw.anos_experiencia_profissional.str.split('-').str[0].astype(int)\n",
    "raw['intervalo_max_anos_exp_profissional'] = raw.anos_experiencia_profissional.str.split('-').str[1].astype(int)"
   ]
  },
  {
   "cell_type": "code",
   "execution_count": 83,
   "id": "b1cccfa8",
   "metadata": {},
   "outputs": [],
   "source": [
    "# == dropar colunas de intervalo de anos_experiencia == \n",
    "\n",
    "raw.drop(columns={'anos_experiencia_pessoal', 'anos_experiencia_profissional'}, inplace=True)"
   ]
  },
  {
   "cell_type": "code",
   "execution_count": 84,
   "id": "1a40ef77",
   "metadata": {},
   "outputs": [],
   "source": [
    "# == tratar colunas binárias == \n",
    "\n",
    "cols = ['sou_estudante', 'sou_aposentado', 'sou_freelancer', 'buscando_trabalho']\n",
    "\n",
    "for col in cols:\n",
    "    raw[col] = raw[col].apply(\n",
    "        lambda x:\n",
    "        'Nao' if x in ['NO', 'No'] else 'Sim'\n",
    "    )"
   ]
  },
  {
   "cell_type": "code",
   "execution_count": 85,
   "id": "329d4170",
   "metadata": {},
   "outputs": [],
   "source": [
    "# == remover linhas sem salário ==\n",
    "\n",
    "raw = raw[raw.salario != 0]"
   ]
  },
  {
   "cell_type": "code",
   "execution_count": 86,
   "id": "5c751971",
   "metadata": {},
   "outputs": [
    {
     "data": {
      "text/plain": [
       "Mid          22537\n",
       "High         18703\n",
       "Very High     3250\n",
       "Low           2745\n",
       "Very Low       681\n",
       "Name: categoria_salario, dtype: int64"
      ]
     },
     "execution_count": 86,
     "metadata": {},
     "output_type": "execute_result"
    }
   ],
   "source": [
    "raw.categoria_salario.value_counts()"
   ]
  },
  {
   "cell_type": "code",
   "execution_count": 87,
   "id": "efefa42f",
   "metadata": {},
   "outputs": [
    {
     "data": {
      "text/plain": [
       "Mid          22537\n",
       "High         18703\n",
       "Very High     3250\n",
       "Low           2745\n",
       "Very Low       681\n",
       "Name: categoria_salario, dtype: int64"
      ]
     },
     "execution_count": 87,
     "metadata": {},
     "output_type": "execute_result"
    },
    {
     "name": "stderr",
     "output_type": "stream",
     "text": [
      "100%|██████████| 47916/47916 [02:53<00:00, 275.40it/s]\n"
     ]
    }
   ],
   "source": [
    "# == reformular a coluna de categoria de salário mais balanceada ==\n",
    "\n",
    "raw.categoria_salario.value_counts()\n",
    "# raw.categoria_salario = raw.salario.progress_apply(\n",
    "#     lambda x: \n",
    "#     'Very Low' if x <= raw.salario.quantile(0.2) else\n",
    "#     'Low' if x > raw.salario.quantile(0.2) and x <= raw.salario.quantile(0.4) else\n",
    "#     'Mid' if x > raw.salario.quantile(0.4) and x <= raw.salario.quantile(0.6) else\n",
    "#     'High' if x > raw.salario.quantile(0.6) and x <= raw.salario.quantile(0.8) else\n",
    "#     'Very High'\n",
    "# )\n",
    "raw.categoria_salario = raw.salario.progress_apply(\n",
    "    lambda x: \n",
    "    'Low' if x <= raw.salario.quantile(0.25) else\n",
    "    'Mid' if x > raw.salario.quantile(0.25) and x <= raw.salario.quantile(0.5) else\n",
    "    'High' if x > raw.salario.quantile(0.5) and x <= raw.salario.quantile(0.75) else\n",
    "    'Very High'\n",
    ")"
   ]
  },
  {
   "cell_type": "code",
   "execution_count": 88,
   "id": "f6c5ce68",
   "metadata": {},
   "outputs": [],
   "source": [
    "# == drop da coluna de salário == \n",
    "\n",
    "raw = raw.drop(columns={'salario'})"
   ]
  },
  {
   "cell_type": "code",
   "execution_count": 89,
   "id": "32c34674",
   "metadata": {},
   "outputs": [],
   "source": [
    "# == arrumar a faixa_idade igual a 'Baby' ==\n",
    "\n",
    "raw.loc[raw.faixa_idade == 'Baby', 'faixa_idade'] = 'Youth'"
   ]
  },
  {
   "cell_type": "code",
   "execution_count": 90,
   "id": "2ec701f1",
   "metadata": {},
   "outputs": [
    {
     "name": "stderr",
     "output_type": "stream",
     "text": [
      "100%|██████████| 47916/47916 [00:00<00:00, 423789.82it/s]\n"
     ]
    }
   ],
   "source": [
    "# == criar uma coluna de intervalo de idade min e max == \n",
    "\n",
    "raw['idade'] = raw.intervalo_min_anos_exp_pessoal.progress_apply(\n",
    "    lambda x:\n",
    "    x + randint(16, 30)\n",
    ")"
   ]
  },
  {
   "cell_type": "code",
   "execution_count": 91,
   "id": "26fea11c",
   "metadata": {},
   "outputs": [],
   "source": [
    "# == feature de ano atual na empresa == \n",
    "\n",
    "raw['anos_atividade_atual'] = raw.intervalo_min_anos_exp_profissional.apply(\n",
    "    lambda x:\n",
    "    randint(1, x) if x != 0 else 0\n",
    ")"
   ]
  },
  {
   "cell_type": "code",
   "execution_count": 92,
   "id": "f69523b1",
   "metadata": {},
   "outputs": [],
   "source": [
    "# == reorganizar o dataset == \n",
    "\n",
    "raw = raw[[\n",
    "    'pais', 'continente', 'idade', \n",
    "    'faixa_idade', 'modalidade_exercicio', 'contrato_trabalho', \n",
    "    'sou_estudante', 'sou_aposentado', 'sou_freelancer', \n",
    "    'buscando_trabalho', 'nivel_educacao', 'intervalo_min_anos_exp_pessoal',\n",
    "    'intervalo_max_anos_exp_pessoal', 'intervalo_min_anos_exp_profissional',\n",
    "    'intervalo_max_anos_exp_profissional', 'anos_atividade_atual', 'categoria_salario'\n",
    "]]"
   ]
  },
  {
   "cell_type": "code",
   "execution_count": 101,
   "id": "47586125",
   "metadata": {},
   "outputs": [],
   "source": [
    "# == inserir de forma randômica dados nulos nas células == \n",
    "\n",
    "for n in range(100):\n",
    "    raw.iloc[randint(0, raw.shape[0]-1), randint(1, len(raw.columns) - 2)] = np.nan"
   ]
  },
  {
   "cell_type": "code",
   "execution_count": 103,
   "id": "94b0e14c",
   "metadata": {},
   "outputs": [],
   "source": [
    "# == salvar o estado atual do dataset == \n",
    "\n",
    "raw.to_parquet('dataset/final_case.parquet')"
   ]
  },
  {
   "cell_type": "code",
   "execution_count": 24,
   "id": "36c8957d",
   "metadata": {},
   "outputs": [],
   "source": [
    "# == aplicar transformações para gerar o rótulo final do classificador ==\n",
    "\n",
    "transform = raw.copy()"
   ]
  },
  {
   "cell_type": "code",
   "execution_count": 25,
   "id": "ece1376b",
   "metadata": {},
   "outputs": [],
   "source": [
    "# == selecionar os nomes das colunas de dtypes == \n",
    "\n",
    "object_cols = transform.select_dtypes(include=['object']).columns[:-1]\n",
    "label_col = 'categoria_salario'\n",
    "numeric_cols = transform.select_dtypes(exclude=['object']).columns"
   ]
  },
  {
   "cell_type": "code",
   "execution_count": 27,
   "id": "4f93540b",
   "metadata": {},
   "outputs": [],
   "source": [
    "# == aplicar one hot enconding das colunas ==\n",
    "\n",
    "encoded = pd.get_dummies(transform[object_cols], columns=object_cols)"
   ]
  },
  {
   "cell_type": "code",
   "execution_count": 28,
   "id": "c5840860",
   "metadata": {},
   "outputs": [],
   "source": [
    "# == juntar os dataframes ==\n",
    "\n",
    "transform_final = transform[numeric_cols].join(encoded).join(transform[[label_col]])"
   ]
  },
  {
   "cell_type": "code",
   "execution_count": 29,
   "id": "18534c72",
   "metadata": {},
   "outputs": [],
   "source": [
    "# == mapear a label ==\n",
    "\n",
    "# labels_map = {\n",
    "#     'Very Low': 0,\n",
    "#     'Low': 1,\n",
    "#     'Mid': 2,\n",
    "#     'High': 3,\n",
    "#     'Very High': 4\n",
    "# }\n",
    "labels_map = {\n",
    "    'Low': 0,\n",
    "    'Mid': 1,\n",
    "    'High': 2,\n",
    "    'Very High': 3\n",
    "}\n",
    "transform_final.categoria_salario = transform_final.categoria_salario.map(labels_map)"
   ]
  },
  {
   "cell_type": "code",
   "execution_count": 30,
   "id": "35427aaf",
   "metadata": {},
   "outputs": [],
   "source": [
    "# == aplicar k-menas == \n",
    "\n",
    "kmeans = KMeans(n_clusters=5, random_state=42)\n",
    "transform_final['cluster'] = kmeans.fit_predict(transform_final)"
   ]
  },
  {
   "cell_type": "code",
   "execution_count": 31,
   "id": "8b5ce0ae",
   "metadata": {},
   "outputs": [
    {
     "data": {
      "text/html": [
       "<div>\n",
       "<style scoped>\n",
       "    .dataframe tbody tr th:only-of-type {\n",
       "        vertical-align: middle;\n",
       "    }\n",
       "\n",
       "    .dataframe tbody tr th {\n",
       "        vertical-align: top;\n",
       "    }\n",
       "\n",
       "    .dataframe thead th {\n",
       "        text-align: right;\n",
       "    }\n",
       "</style>\n",
       "<table border=\"1\" class=\"dataframe\">\n",
       "  <thead>\n",
       "    <tr style=\"text-align: right;\">\n",
       "      <th></th>\n",
       "      <th>cluster</th>\n",
       "      <th>categoria_salario</th>\n",
       "      <th>contagem</th>\n",
       "      <th>porcentagem</th>\n",
       "    </tr>\n",
       "  </thead>\n",
       "  <tbody>\n",
       "    <tr>\n",
       "      <th>5</th>\n",
       "      <td>0</td>\n",
       "      <td>0</td>\n",
       "      <td>3274</td>\n",
       "      <td>0.272993</td>\n",
       "    </tr>\n",
       "    <tr>\n",
       "      <th>19</th>\n",
       "      <td>1</td>\n",
       "      <td>0</td>\n",
       "      <td>276</td>\n",
       "      <td>0.023013</td>\n",
       "    </tr>\n",
       "    <tr>\n",
       "      <th>0</th>\n",
       "      <td>2</td>\n",
       "      <td>0</td>\n",
       "      <td>6452</td>\n",
       "      <td>0.537980</td>\n",
       "    </tr>\n",
       "    <tr>\n",
       "      <th>13</th>\n",
       "      <td>3</td>\n",
       "      <td>0</td>\n",
       "      <td>1356</td>\n",
       "      <td>0.113066</td>\n",
       "    </tr>\n",
       "    <tr>\n",
       "      <th>17</th>\n",
       "      <td>4</td>\n",
       "      <td>0</td>\n",
       "      <td>635</td>\n",
       "      <td>0.052948</td>\n",
       "    </tr>\n",
       "    <tr>\n",
       "      <th>1</th>\n",
       "      <td>0</td>\n",
       "      <td>1</td>\n",
       "      <td>4194</td>\n",
       "      <td>0.342507</td>\n",
       "    </tr>\n",
       "    <tr>\n",
       "      <th>18</th>\n",
       "      <td>1</td>\n",
       "      <td>1</td>\n",
       "      <td>525</td>\n",
       "      <td>0.042875</td>\n",
       "    </tr>\n",
       "    <tr>\n",
       "      <th>2</th>\n",
       "      <td>2</td>\n",
       "      <td>1</td>\n",
       "      <td>3781</td>\n",
       "      <td>0.308779</td>\n",
       "    </tr>\n",
       "    <tr>\n",
       "      <th>10</th>\n",
       "      <td>3</td>\n",
       "      <td>1</td>\n",
       "      <td>2444</td>\n",
       "      <td>0.199592</td>\n",
       "    </tr>\n",
       "    <tr>\n",
       "      <th>15</th>\n",
       "      <td>4</td>\n",
       "      <td>1</td>\n",
       "      <td>1301</td>\n",
       "      <td>0.106247</td>\n",
       "    </tr>\n",
       "    <tr>\n",
       "      <th>3</th>\n",
       "      <td>0</td>\n",
       "      <td>2</td>\n",
       "      <td>3653</td>\n",
       "      <td>0.312089</td>\n",
       "    </tr>\n",
       "    <tr>\n",
       "      <th>16</th>\n",
       "      <td>1</td>\n",
       "      <td>2</td>\n",
       "      <td>838</td>\n",
       "      <td>0.071593</td>\n",
       "    </tr>\n",
       "    <tr>\n",
       "      <th>9</th>\n",
       "      <td>2</td>\n",
       "      <td>2</td>\n",
       "      <td>2503</td>\n",
       "      <td>0.213840</td>\n",
       "    </tr>\n",
       "    <tr>\n",
       "      <th>7</th>\n",
       "      <td>3</td>\n",
       "      <td>2</td>\n",
       "      <td>2845</td>\n",
       "      <td>0.243059</td>\n",
       "    </tr>\n",
       "    <tr>\n",
       "      <th>11</th>\n",
       "      <td>4</td>\n",
       "      <td>2</td>\n",
       "      <td>1866</td>\n",
       "      <td>0.159419</td>\n",
       "    </tr>\n",
       "    <tr>\n",
       "      <th>4</th>\n",
       "      <td>0</td>\n",
       "      <td>3</td>\n",
       "      <td>3379</td>\n",
       "      <td>0.282218</td>\n",
       "    </tr>\n",
       "    <tr>\n",
       "      <th>14</th>\n",
       "      <td>1</td>\n",
       "      <td>3</td>\n",
       "      <td>1321</td>\n",
       "      <td>0.110332</td>\n",
       "    </tr>\n",
       "    <tr>\n",
       "      <th>12</th>\n",
       "      <td>2</td>\n",
       "      <td>3</td>\n",
       "      <td>1529</td>\n",
       "      <td>0.127704</td>\n",
       "    </tr>\n",
       "    <tr>\n",
       "      <th>6</th>\n",
       "      <td>3</td>\n",
       "      <td>3</td>\n",
       "      <td>3134</td>\n",
       "      <td>0.261756</td>\n",
       "    </tr>\n",
       "    <tr>\n",
       "      <th>8</th>\n",
       "      <td>4</td>\n",
       "      <td>3</td>\n",
       "      <td>2610</td>\n",
       "      <td>0.217990</td>\n",
       "    </tr>\n",
       "  </tbody>\n",
       "</table>\n",
       "</div>"
      ],
      "text/plain": [
       "    cluster  categoria_salario  contagem  porcentagem\n",
       "5         0                  0      3274     0.272993\n",
       "19        1                  0       276     0.023013\n",
       "0         2                  0      6452     0.537980\n",
       "13        3                  0      1356     0.113066\n",
       "17        4                  0       635     0.052948\n",
       "1         0                  1      4194     0.342507\n",
       "18        1                  1       525     0.042875\n",
       "2         2                  1      3781     0.308779\n",
       "10        3                  1      2444     0.199592\n",
       "15        4                  1      1301     0.106247\n",
       "3         0                  2      3653     0.312089\n",
       "16        1                  2       838     0.071593\n",
       "9         2                  2      2503     0.213840\n",
       "7         3                  2      2845     0.243059\n",
       "11        4                  2      1866     0.159419\n",
       "4         0                  3      3379     0.282218\n",
       "14        1                  3      1321     0.110332\n",
       "12        2                  3      1529     0.127704\n",
       "6         3                  3      3134     0.261756\n",
       "8         4                  3      2610     0.217990"
      ]
     },
     "execution_count": 31,
     "metadata": {},
     "output_type": "execute_result"
    }
   ],
   "source": [
    "# == analisar o cluster em relação à categoria de salário ==\n",
    "\n",
    "analise_cluster = transform_final[['cluster', 'categoria_salario']]\n",
    "analise_cluster = analise_cluster.value_counts()\\\n",
    "                                 .to_frame()\\\n",
    "                                 .reset_index()\n",
    "analise_cluster = analise_cluster.sort_values(by=['categoria_salario', 'cluster'])\n",
    "analise_cluster = analise_cluster.rename(columns={0: 'contagem'})\n",
    "analise_cluster['porcentagem'] = analise_cluster.apply(\n",
    "    lambda x:\n",
    "    x.contagem / analise_cluster[analise_cluster.categoria_salario == x.categoria_salario].contagem.sum(),\n",
    "    axis=1\n",
    ")\n",
    "analise_cluster"
   ]
  },
  {
   "cell_type": "code",
   "execution_count": 32,
   "id": "dfe77936",
   "metadata": {},
   "outputs": [],
   "source": [
    "# == separar os dados X e y == \n",
    "\n",
    "X = transform_final.drop(columns={'categoria_salario', 'cluster'})\n",
    "y = transform_final.categoria_salario"
   ]
  },
  {
   "cell_type": "code",
   "execution_count": 33,
   "id": "b80f32af",
   "metadata": {},
   "outputs": [],
   "source": [
    "# == train test split == \n",
    "\n",
    "X_train, X_test, y_train, y_test = train_test_split(X, y, test_size=0.2, stratify=y)"
   ]
  },
  {
   "cell_type": "code",
   "execution_count": 95,
   "id": "ab98f219",
   "metadata": {
    "collapsed": true
   },
   "outputs": [
    {
     "name": "stdout",
     "output_type": "stream",
     "text": [
      "[16:36:43] WARNING: ../src/learner.cc:248: No visible GPU is found, setting `gpu_id` to -1\n"
     ]
    },
    {
     "ename": "XGBoostError",
     "evalue": "[16:36:43] ../src/gbm/gbtree.cc:597: Check failed: common::AllVisibleGPUs() >= 1 (0 vs. 1) : No visible GPU is found for XGBoost.\nStack trace:\n  [bt] (0) /home/eidi/anaconda3/lib/python3.7/site-packages/xgboost/lib/libxgboost.so(+0x1e4459) [0x7ff90d88f459]\n  [bt] (1) /home/eidi/anaconda3/lib/python3.7/site-packages/xgboost/lib/libxgboost.so(+0x1e5571) [0x7ff90d890571]\n  [bt] (2) /home/eidi/anaconda3/lib/python3.7/site-packages/xgboost/lib/libxgboost.so(+0x1e595a) [0x7ff90d89095a]\n  [bt] (3) /home/eidi/anaconda3/lib/python3.7/site-packages/xgboost/lib/libxgboost.so(+0x225a3d) [0x7ff90d8d0a3d]\n  [bt] (4) /home/eidi/anaconda3/lib/python3.7/site-packages/xgboost/lib/libxgboost.so(XGBoosterUpdateOneIter+0x68) [0x7ff90d76a098]\n  [bt] (5) /home/eidi/anaconda3/lib/python3.7/lib-dynload/../../libffi.so.6(ffi_call_unix64+0x4c) [0x7ff98590bec0]\n  [bt] (6) /home/eidi/anaconda3/lib/python3.7/lib-dynload/../../libffi.so.6(ffi_call+0x22d) [0x7ff98590b87d]\n  [bt] (7) /home/eidi/anaconda3/lib/python3.7/lib-dynload/_ctypes.cpython-37m-x86_64-linux-gnu.so(_ctypes_callproc+0x2ce) [0x7ff985b211de]\n  [bt] (8) /home/eidi/anaconda3/lib/python3.7/lib-dynload/_ctypes.cpython-37m-x86_64-linux-gnu.so(+0x12c14) [0x7ff985b21c14]\n\n",
     "output_type": "error",
     "traceback": [
      "\u001b[0;31m---------------------------------------------------------------------------\u001b[0m",
      "\u001b[0;31mXGBoostError\u001b[0m                              Traceback (most recent call last)",
      "\u001b[0;32m<ipython-input-95-074b8b4636f9>\u001b[0m in \u001b[0;36m<module>\u001b[0;34m\u001b[0m\n\u001b[1;32m      2\u001b[0m \u001b[0;34m\u001b[0m\u001b[0m\n\u001b[1;32m      3\u001b[0m \u001b[0mmodel\u001b[0m \u001b[0;34m=\u001b[0m \u001b[0mXGBClassifier\u001b[0m\u001b[0;34m(\u001b[0m\u001b[0mtree_method\u001b[0m\u001b[0;34m=\u001b[0m\u001b[0;34m'gpu_hist'\u001b[0m\u001b[0;34m,\u001b[0m \u001b[0mgpu_id\u001b[0m\u001b[0;34m=\u001b[0m\u001b[0;34m-\u001b[0m\u001b[0;36m1\u001b[0m\u001b[0;34m)\u001b[0m\u001b[0;34m\u001b[0m\u001b[0;34m\u001b[0m\u001b[0m\n\u001b[0;32m----> 4\u001b[0;31m \u001b[0mmodel\u001b[0m\u001b[0;34m.\u001b[0m\u001b[0mfit\u001b[0m\u001b[0;34m(\u001b[0m\u001b[0mX_train\u001b[0m\u001b[0;34m,\u001b[0m \u001b[0my_train\u001b[0m\u001b[0;34m)\u001b[0m\u001b[0;34m\u001b[0m\u001b[0;34m\u001b[0m\u001b[0m\n\u001b[0m\u001b[1;32m      5\u001b[0m \u001b[0my_pred\u001b[0m \u001b[0;34m=\u001b[0m \u001b[0mmodel\u001b[0m\u001b[0;34m.\u001b[0m\u001b[0mpredict\u001b[0m\u001b[0;34m(\u001b[0m\u001b[0mX_test\u001b[0m\u001b[0;34m)\u001b[0m\u001b[0;34m\u001b[0m\u001b[0;34m\u001b[0m\u001b[0m\n",
      "\u001b[0;32m~/anaconda3/lib/python3.7/site-packages/xgboost/core.py\u001b[0m in \u001b[0;36minner_f\u001b[0;34m(*args, **kwargs)\u001b[0m\n\u001b[1;32m    573\u001b[0m         \u001b[0;32mfor\u001b[0m \u001b[0mk\u001b[0m\u001b[0;34m,\u001b[0m \u001b[0marg\u001b[0m \u001b[0;32min\u001b[0m \u001b[0mzip\u001b[0m\u001b[0;34m(\u001b[0m\u001b[0msig\u001b[0m\u001b[0;34m.\u001b[0m\u001b[0mparameters\u001b[0m\u001b[0;34m,\u001b[0m \u001b[0margs\u001b[0m\u001b[0;34m)\u001b[0m\u001b[0;34m:\u001b[0m\u001b[0;34m\u001b[0m\u001b[0;34m\u001b[0m\u001b[0m\n\u001b[1;32m    574\u001b[0m             \u001b[0mkwargs\u001b[0m\u001b[0;34m[\u001b[0m\u001b[0mk\u001b[0m\u001b[0;34m]\u001b[0m \u001b[0;34m=\u001b[0m \u001b[0marg\u001b[0m\u001b[0;34m\u001b[0m\u001b[0;34m\u001b[0m\u001b[0m\n\u001b[0;32m--> 575\u001b[0;31m         \u001b[0;32mreturn\u001b[0m \u001b[0mf\u001b[0m\u001b[0;34m(\u001b[0m\u001b[0;34m**\u001b[0m\u001b[0mkwargs\u001b[0m\u001b[0;34m)\u001b[0m\u001b[0;34m\u001b[0m\u001b[0;34m\u001b[0m\u001b[0m\n\u001b[0m\u001b[1;32m    576\u001b[0m \u001b[0;34m\u001b[0m\u001b[0m\n\u001b[1;32m    577\u001b[0m     \u001b[0;32mreturn\u001b[0m \u001b[0minner_f\u001b[0m\u001b[0;34m\u001b[0m\u001b[0;34m\u001b[0m\u001b[0m\n",
      "\u001b[0;32m~/anaconda3/lib/python3.7/site-packages/xgboost/sklearn.py\u001b[0m in \u001b[0;36mfit\u001b[0;34m(self, X, y, sample_weight, base_margin, eval_set, eval_metric, early_stopping_rounds, verbose, xgb_model, sample_weight_eval_set, base_margin_eval_set, feature_weights, callbacks)\u001b[0m\n\u001b[1;32m   1409\u001b[0m             \u001b[0mverbose_eval\u001b[0m\u001b[0;34m=\u001b[0m\u001b[0mverbose\u001b[0m\u001b[0;34m,\u001b[0m\u001b[0;34m\u001b[0m\u001b[0;34m\u001b[0m\u001b[0m\n\u001b[1;32m   1410\u001b[0m             \u001b[0mxgb_model\u001b[0m\u001b[0;34m=\u001b[0m\u001b[0mmodel\u001b[0m\u001b[0;34m,\u001b[0m\u001b[0;34m\u001b[0m\u001b[0;34m\u001b[0m\u001b[0m\n\u001b[0;32m-> 1411\u001b[0;31m             \u001b[0mcallbacks\u001b[0m\u001b[0;34m=\u001b[0m\u001b[0mcallbacks\u001b[0m\u001b[0;34m,\u001b[0m\u001b[0;34m\u001b[0m\u001b[0;34m\u001b[0m\u001b[0m\n\u001b[0m\u001b[1;32m   1412\u001b[0m         )\n\u001b[1;32m   1413\u001b[0m \u001b[0;34m\u001b[0m\u001b[0m\n",
      "\u001b[0;32m~/anaconda3/lib/python3.7/site-packages/xgboost/core.py\u001b[0m in \u001b[0;36minner_f\u001b[0;34m(*args, **kwargs)\u001b[0m\n\u001b[1;32m    573\u001b[0m         \u001b[0;32mfor\u001b[0m \u001b[0mk\u001b[0m\u001b[0;34m,\u001b[0m \u001b[0marg\u001b[0m \u001b[0;32min\u001b[0m \u001b[0mzip\u001b[0m\u001b[0;34m(\u001b[0m\u001b[0msig\u001b[0m\u001b[0;34m.\u001b[0m\u001b[0mparameters\u001b[0m\u001b[0;34m,\u001b[0m \u001b[0margs\u001b[0m\u001b[0;34m)\u001b[0m\u001b[0;34m:\u001b[0m\u001b[0;34m\u001b[0m\u001b[0;34m\u001b[0m\u001b[0m\n\u001b[1;32m    574\u001b[0m             \u001b[0mkwargs\u001b[0m\u001b[0;34m[\u001b[0m\u001b[0mk\u001b[0m\u001b[0;34m]\u001b[0m \u001b[0;34m=\u001b[0m \u001b[0marg\u001b[0m\u001b[0;34m\u001b[0m\u001b[0;34m\u001b[0m\u001b[0m\n\u001b[0;32m--> 575\u001b[0;31m         \u001b[0;32mreturn\u001b[0m \u001b[0mf\u001b[0m\u001b[0;34m(\u001b[0m\u001b[0;34m**\u001b[0m\u001b[0mkwargs\u001b[0m\u001b[0;34m)\u001b[0m\u001b[0;34m\u001b[0m\u001b[0;34m\u001b[0m\u001b[0m\n\u001b[0m\u001b[1;32m    576\u001b[0m \u001b[0;34m\u001b[0m\u001b[0m\n\u001b[1;32m    577\u001b[0m     \u001b[0;32mreturn\u001b[0m \u001b[0minner_f\u001b[0m\u001b[0;34m\u001b[0m\u001b[0;34m\u001b[0m\u001b[0m\n",
      "\u001b[0;32m~/anaconda3/lib/python3.7/site-packages/xgboost/training.py\u001b[0m in \u001b[0;36mtrain\u001b[0;34m(params, dtrain, num_boost_round, evals, obj, feval, maximize, early_stopping_rounds, evals_result, verbose_eval, xgb_model, callbacks, custom_metric)\u001b[0m\n\u001b[1;32m    179\u001b[0m         \u001b[0;32mif\u001b[0m \u001b[0mcb_container\u001b[0m\u001b[0;34m.\u001b[0m\u001b[0mbefore_iteration\u001b[0m\u001b[0;34m(\u001b[0m\u001b[0mbst\u001b[0m\u001b[0;34m,\u001b[0m \u001b[0mi\u001b[0m\u001b[0;34m,\u001b[0m \u001b[0mdtrain\u001b[0m\u001b[0;34m,\u001b[0m \u001b[0mevals\u001b[0m\u001b[0;34m)\u001b[0m\u001b[0;34m:\u001b[0m\u001b[0;34m\u001b[0m\u001b[0;34m\u001b[0m\u001b[0m\n\u001b[1;32m    180\u001b[0m             \u001b[0;32mbreak\u001b[0m\u001b[0;34m\u001b[0m\u001b[0;34m\u001b[0m\u001b[0m\n\u001b[0;32m--> 181\u001b[0;31m         \u001b[0mbst\u001b[0m\u001b[0;34m.\u001b[0m\u001b[0mupdate\u001b[0m\u001b[0;34m(\u001b[0m\u001b[0mdtrain\u001b[0m\u001b[0;34m,\u001b[0m \u001b[0mi\u001b[0m\u001b[0;34m,\u001b[0m \u001b[0mobj\u001b[0m\u001b[0;34m)\u001b[0m\u001b[0;34m\u001b[0m\u001b[0;34m\u001b[0m\u001b[0m\n\u001b[0m\u001b[1;32m    182\u001b[0m         \u001b[0;32mif\u001b[0m \u001b[0mcb_container\u001b[0m\u001b[0;34m.\u001b[0m\u001b[0mafter_iteration\u001b[0m\u001b[0;34m(\u001b[0m\u001b[0mbst\u001b[0m\u001b[0;34m,\u001b[0m \u001b[0mi\u001b[0m\u001b[0;34m,\u001b[0m \u001b[0mdtrain\u001b[0m\u001b[0;34m,\u001b[0m \u001b[0mevals\u001b[0m\u001b[0;34m)\u001b[0m\u001b[0;34m:\u001b[0m\u001b[0;34m\u001b[0m\u001b[0;34m\u001b[0m\u001b[0m\n\u001b[1;32m    183\u001b[0m             \u001b[0;32mbreak\u001b[0m\u001b[0;34m\u001b[0m\u001b[0;34m\u001b[0m\u001b[0m\n",
      "\u001b[0;32m~/anaconda3/lib/python3.7/site-packages/xgboost/core.py\u001b[0m in \u001b[0;36mupdate\u001b[0;34m(self, dtrain, iteration, fobj)\u001b[0m\n\u001b[1;32m   1778\u001b[0m             _check_call(_LIB.XGBoosterUpdateOneIter(self.handle,\n\u001b[1;32m   1779\u001b[0m                                                     \u001b[0mctypes\u001b[0m\u001b[0;34m.\u001b[0m\u001b[0mc_int\u001b[0m\u001b[0;34m(\u001b[0m\u001b[0miteration\u001b[0m\u001b[0;34m)\u001b[0m\u001b[0;34m,\u001b[0m\u001b[0;34m\u001b[0m\u001b[0;34m\u001b[0m\u001b[0m\n\u001b[0;32m-> 1780\u001b[0;31m                                                     dtrain.handle))\n\u001b[0m\u001b[1;32m   1781\u001b[0m         \u001b[0;32melse\u001b[0m\u001b[0;34m:\u001b[0m\u001b[0;34m\u001b[0m\u001b[0;34m\u001b[0m\u001b[0m\n\u001b[1;32m   1782\u001b[0m             \u001b[0mpred\u001b[0m \u001b[0;34m=\u001b[0m \u001b[0mself\u001b[0m\u001b[0;34m.\u001b[0m\u001b[0mpredict\u001b[0m\u001b[0;34m(\u001b[0m\u001b[0mdtrain\u001b[0m\u001b[0;34m,\u001b[0m \u001b[0moutput_margin\u001b[0m\u001b[0;34m=\u001b[0m\u001b[0;32mTrue\u001b[0m\u001b[0;34m,\u001b[0m \u001b[0mtraining\u001b[0m\u001b[0;34m=\u001b[0m\u001b[0;32mTrue\u001b[0m\u001b[0;34m)\u001b[0m\u001b[0;34m\u001b[0m\u001b[0;34m\u001b[0m\u001b[0m\n",
      "\u001b[0;32m~/anaconda3/lib/python3.7/site-packages/xgboost/core.py\u001b[0m in \u001b[0;36m_check_call\u001b[0;34m(ret)\u001b[0m\n\u001b[1;32m    244\u001b[0m     \"\"\"\n\u001b[1;32m    245\u001b[0m     \u001b[0;32mif\u001b[0m \u001b[0mret\u001b[0m \u001b[0;34m!=\u001b[0m \u001b[0;36m0\u001b[0m\u001b[0;34m:\u001b[0m\u001b[0;34m\u001b[0m\u001b[0;34m\u001b[0m\u001b[0m\n\u001b[0;32m--> 246\u001b[0;31m         \u001b[0;32mraise\u001b[0m \u001b[0mXGBoostError\u001b[0m\u001b[0;34m(\u001b[0m\u001b[0mpy_str\u001b[0m\u001b[0;34m(\u001b[0m\u001b[0m_LIB\u001b[0m\u001b[0;34m.\u001b[0m\u001b[0mXGBGetLastError\u001b[0m\u001b[0;34m(\u001b[0m\u001b[0;34m)\u001b[0m\u001b[0;34m)\u001b[0m\u001b[0;34m)\u001b[0m\u001b[0;34m\u001b[0m\u001b[0;34m\u001b[0m\u001b[0m\n\u001b[0m\u001b[1;32m    247\u001b[0m \u001b[0;34m\u001b[0m\u001b[0m\n\u001b[1;32m    248\u001b[0m \u001b[0;34m\u001b[0m\u001b[0m\n",
      "\u001b[0;31mXGBoostError\u001b[0m: [16:36:43] ../src/gbm/gbtree.cc:597: Check failed: common::AllVisibleGPUs() >= 1 (0 vs. 1) : No visible GPU is found for XGBoost.\nStack trace:\n  [bt] (0) /home/eidi/anaconda3/lib/python3.7/site-packages/xgboost/lib/libxgboost.so(+0x1e4459) [0x7ff90d88f459]\n  [bt] (1) /home/eidi/anaconda3/lib/python3.7/site-packages/xgboost/lib/libxgboost.so(+0x1e5571) [0x7ff90d890571]\n  [bt] (2) /home/eidi/anaconda3/lib/python3.7/site-packages/xgboost/lib/libxgboost.so(+0x1e595a) [0x7ff90d89095a]\n  [bt] (3) /home/eidi/anaconda3/lib/python3.7/site-packages/xgboost/lib/libxgboost.so(+0x225a3d) [0x7ff90d8d0a3d]\n  [bt] (4) /home/eidi/anaconda3/lib/python3.7/site-packages/xgboost/lib/libxgboost.so(XGBoosterUpdateOneIter+0x68) [0x7ff90d76a098]\n  [bt] (5) /home/eidi/anaconda3/lib/python3.7/lib-dynload/../../libffi.so.6(ffi_call_unix64+0x4c) [0x7ff98590bec0]\n  [bt] (6) /home/eidi/anaconda3/lib/python3.7/lib-dynload/../../libffi.so.6(ffi_call+0x22d) [0x7ff98590b87d]\n  [bt] (7) /home/eidi/anaconda3/lib/python3.7/lib-dynload/_ctypes.cpython-37m-x86_64-linux-gnu.so(_ctypes_callproc+0x2ce) [0x7ff985b211de]\n  [bt] (8) /home/eidi/anaconda3/lib/python3.7/lib-dynload/_ctypes.cpython-37m-x86_64-linux-gnu.so(+0x12c14) [0x7ff985b21c14]\n\n"
     ]
    }
   ],
   "source": [
    "# == treinar o modelo == \n",
    "\n",
    "model = XGBClassifier()\n",
    "model.fit(X_train, y_train)\n",
    "y_pred = model.predict(X_test)"
   ]
  },
  {
   "cell_type": "code",
   "execution_count": 36,
   "id": "aafe453e",
   "metadata": {},
   "outputs": [
    {
     "data": {
      "text/plain": [
       "<Figure size 576x432 with 0 Axes>"
      ]
     },
     "execution_count": 36,
     "metadata": {},
     "output_type": "execute_result"
    },
    {
     "data": {
      "text/plain": [
       "<AxesSubplot:>"
      ]
     },
     "execution_count": 36,
     "metadata": {},
     "output_type": "execute_result"
    },
    {
     "data": {
      "text/plain": [
       "Text(0.5, 33.0, 'Predicted')"
      ]
     },
     "execution_count": 36,
     "metadata": {},
     "output_type": "execute_result"
    },
    {
     "data": {
      "text/plain": [
       "Text(51.0, 0.5, 'True')"
      ]
     },
     "execution_count": 36,
     "metadata": {},
     "output_type": "execute_result"
    },
    {
     "data": {
      "text/plain": [
       "Text(0.5, 1.0, 'Confusion Matrix')"
      ]
     },
     "execution_count": 36,
     "metadata": {},
     "output_type": "execute_result"
    },
    {
     "data": {
      "image/png": "[encoded data removed]",
      "text/plain": [
       "<Figure size 576x432 with 2 Axes>"
      ]
     },
     "metadata": {
      "needs_background": "light"
     },
     "output_type": "display_data"
    }
   ],
   "source": [
    "# == plotar matriz de confusão == \n",
    "\n",
    "res = confusion_matrix(y_test, y_pred)\n",
    "plt.figure(figsize=(8, 6))\n",
    "sns.heatmap(res, annot=True, cmap='Blues', fmt='g')\n",
    "plt.xlabel('Predicted')\n",
    "plt.ylabel('True')\n",
    "plt.title('Confusion Matrix')\n",
    "plt.show()"
   ]
  },
  {
   "cell_type": "code",
   "execution_count": 299,
   "id": "3cad58a0",
   "metadata": {},
   "outputs": [],
   "source": [
    "# == definição do espaço de parâmetros ==\n",
    "\n",
    "param_dist = {\n",
    "    'n_estimators': [randint(100, 500)],\n",
    "    'learning_rate': [0.01, 0.05, 0.1, 0.2, 0.3],\n",
    "    'max_depth': [randint(2, 10)],\n",
    "    'min_child_weight': [randint(1, 10)],\n",
    "    'subsample': [0.6, 0.7, 0.8, 0.9, 1.0],\n",
    "    'colsample_bytree': [0.6, 0.7, 0.8, 0.9, 1.0],\n",
    "    'gamma': [0, 0.1, 0.2, 0.3, 0.4]\n",
    "}"
   ]
  },
  {
   "cell_type": "code",
   "execution_count": 300,
   "id": "a3059d4d",
   "metadata": {
    "scrolled": true
   },
   "outputs": [
    {
     "name": "stdout",
     "output_type": "stream",
     "text": [
      "Fitting 5 folds for each of 10 candidates, totalling 50 fits\n",
      "[CV 1/5] END colsample_bytree=0.9, gamma=0.2, learning_rate=0.3, max_depth=10, min_child_weight=4, n_estimators=134, subsample=0.8;, score=0.501 total time=  18.6s\n",
      "[CV 2/5] END colsample_bytree=0.9, gamma=0.2, learning_rate=0.3, max_depth=10, min_child_weight=4, n_estimators=134, subsample=0.8;, score=0.513 total time=  18.1s\n",
      "[CV 3/5] END colsample_bytree=0.9, gamma=0.2, learning_rate=0.3, max_depth=10, min_child_weight=4, n_estimators=134, subsample=0.8;, score=0.511 total time=  18.8s\n",
      "[CV 4/5] END colsample_bytree=0.9, gamma=0.2, learning_rate=0.3, max_depth=10, min_child_weight=4, n_estimators=134, subsample=0.8;, score=0.517 total time=  18.6s\n",
      "[CV 5/5] END colsample_bytree=0.9, gamma=0.2, learning_rate=0.3, max_depth=10, min_child_weight=4, n_estimators=134, subsample=0.8;, score=0.502 total time=  18.7s\n",
      "[CV 1/5] END colsample_bytree=0.9, gamma=0.4, learning_rate=0.1, max_depth=10, min_child_weight=4, n_estimators=134, subsample=0.6;, score=0.516 total time=  18.8s\n",
      "[CV 2/5] END colsample_bytree=0.9, gamma=0.4, learning_rate=0.1, max_depth=10, min_child_weight=4, n_estimators=134, subsample=0.6;, score=0.530 total time=  19.2s\n",
      "[CV 3/5] END colsample_bytree=0.9, gamma=0.4, learning_rate=0.1, max_depth=10, min_child_weight=4, n_estimators=134, subsample=0.6;, score=0.527 total time=  19.2s\n",
      "[CV 4/5] END colsample_bytree=0.9, gamma=0.4, learning_rate=0.1, max_depth=10, min_child_weight=4, n_estimators=134, subsample=0.6;, score=0.532 total time=  19.1s\n",
      "[CV 5/5] END colsample_bytree=0.9, gamma=0.4, learning_rate=0.1, max_depth=10, min_child_weight=4, n_estimators=134, subsample=0.6;, score=0.521 total time=  19.3s\n",
      "[CV 1/5] END colsample_bytree=0.7, gamma=0.3, learning_rate=0.2, max_depth=10, min_child_weight=4, n_estimators=134, subsample=0.6;, score=0.508 total time=  14.7s\n",
      "[CV 2/5] END colsample_bytree=0.7, gamma=0.3, learning_rate=0.2, max_depth=10, min_child_weight=4, n_estimators=134, subsample=0.6;, score=0.521 total time=  15.0s\n",
      "[CV 3/5] END colsample_bytree=0.7, gamma=0.3, learning_rate=0.2, max_depth=10, min_child_weight=4, n_estimators=134, subsample=0.6;, score=0.522 total time=  14.7s\n",
      "[CV 4/5] END colsample_bytree=0.7, gamma=0.3, learning_rate=0.2, max_depth=10, min_child_weight=4, n_estimators=134, subsample=0.6;, score=0.524 total time=  15.1s\n",
      "[CV 5/5] END colsample_bytree=0.7, gamma=0.3, learning_rate=0.2, max_depth=10, min_child_weight=4, n_estimators=134, subsample=0.6;, score=0.513 total time=  14.9s\n",
      "[CV 1/5] END colsample_bytree=0.7, gamma=0.3, learning_rate=0.1, max_depth=10, min_child_weight=4, n_estimators=134, subsample=0.8;, score=0.521 total time=  16.8s\n",
      "[CV 2/5] END colsample_bytree=0.7, gamma=0.3, learning_rate=0.1, max_depth=10, min_child_weight=4, n_estimators=134, subsample=0.8;, score=0.527 total time=  17.4s\n",
      "[CV 3/5] END colsample_bytree=0.7, gamma=0.3, learning_rate=0.1, max_depth=10, min_child_weight=4, n_estimators=134, subsample=0.8;, score=0.529 total time=  17.4s\n",
      "[CV 4/5] END colsample_bytree=0.7, gamma=0.3, learning_rate=0.1, max_depth=10, min_child_weight=4, n_estimators=134, subsample=0.8;, score=0.534 total time=  17.1s\n",
      "[CV 5/5] END colsample_bytree=0.7, gamma=0.3, learning_rate=0.1, max_depth=10, min_child_weight=4, n_estimators=134, subsample=0.8;, score=0.523 total time=  17.3s\n",
      "[CV 1/5] END colsample_bytree=0.9, gamma=0.4, learning_rate=0.05, max_depth=10, min_child_weight=4, n_estimators=134, subsample=0.6;, score=0.520 total time=  24.0s\n",
      "[CV 2/5] END colsample_bytree=0.9, gamma=0.4, learning_rate=0.05, max_depth=10, min_child_weight=4, n_estimators=134, subsample=0.6;, score=0.527 total time=  24.4s\n",
      "[CV 3/5] END colsample_bytree=0.9, gamma=0.4, learning_rate=0.05, max_depth=10, min_child_weight=4, n_estimators=134, subsample=0.6;, score=0.528 total time=  24.4s\n",
      "[CV 4/5] END colsample_bytree=0.9, gamma=0.4, learning_rate=0.05, max_depth=10, min_child_weight=4, n_estimators=134, subsample=0.6;, score=0.535 total time=  24.0s\n",
      "[CV 5/5] END colsample_bytree=0.9, gamma=0.4, learning_rate=0.05, max_depth=10, min_child_weight=4, n_estimators=134, subsample=0.6;, score=0.526 total time=  24.0s\n",
      "[CV 1/5] END colsample_bytree=1.0, gamma=0, learning_rate=0.2, max_depth=10, min_child_weight=4, n_estimators=134, subsample=0.6;, score=0.509 total time=  22.1s\n",
      "[CV 2/5] END colsample_bytree=1.0, gamma=0, learning_rate=0.2, max_depth=10, min_child_weight=4, n_estimators=134, subsample=0.6;, score=0.519 total time=  22.7s\n",
      "[CV 3/5] END colsample_bytree=1.0, gamma=0, learning_rate=0.2, max_depth=10, min_child_weight=4, n_estimators=134, subsample=0.6;, score=0.520 total time=  22.5s\n",
      "[CV 4/5] END colsample_bytree=1.0, gamma=0, learning_rate=0.2, max_depth=10, min_child_weight=4, n_estimators=134, subsample=0.6;, score=0.519 total time=  22.8s\n",
      "[CV 5/5] END colsample_bytree=1.0, gamma=0, learning_rate=0.2, max_depth=10, min_child_weight=4, n_estimators=134, subsample=0.6;, score=0.510 total time=  22.6s\n",
      "[CV 1/5] END colsample_bytree=0.7, gamma=0.1, learning_rate=0.1, max_depth=10, min_child_weight=4, n_estimators=134, subsample=0.9;, score=0.520 total time=  19.3s\n",
      "[CV 2/5] END colsample_bytree=0.7, gamma=0.1, learning_rate=0.1, max_depth=10, min_child_weight=4, n_estimators=134, subsample=0.9;, score=0.525 total time=  19.3s\n",
      "[CV 3/5] END colsample_bytree=0.7, gamma=0.1, learning_rate=0.1, max_depth=10, min_child_weight=4, n_estimators=134, subsample=0.9;, score=0.530 total time=  19.6s\n",
      "[CV 4/5] END colsample_bytree=0.7, gamma=0.1, learning_rate=0.1, max_depth=10, min_child_weight=4, n_estimators=134, subsample=0.9;, score=0.536 total time=  19.4s\n",
      "[CV 5/5] END colsample_bytree=0.7, gamma=0.1, learning_rate=0.1, max_depth=10, min_child_weight=4, n_estimators=134, subsample=0.9;, score=0.525 total time=  19.1s\n",
      "[CV 1/5] END colsample_bytree=0.6, gamma=0.3, learning_rate=0.01, max_depth=10, min_child_weight=4, n_estimators=134, subsample=0.8;, score=0.512 total time=  24.9s\n",
      "[CV 2/5] END colsample_bytree=0.6, gamma=0.3, learning_rate=0.01, max_depth=10, min_child_weight=4, n_estimators=134, subsample=0.8;, score=0.520 total time=  25.0s\n",
      "[CV 3/5] END colsample_bytree=0.6, gamma=0.3, learning_rate=0.01, max_depth=10, min_child_weight=4, n_estimators=134, subsample=0.8;, score=0.517 total time=  25.5s\n",
      "[CV 4/5] END colsample_bytree=0.6, gamma=0.3, learning_rate=0.01, max_depth=10, min_child_weight=4, n_estimators=134, subsample=0.8;, score=0.532 total time=  24.7s\n",
      "[CV 5/5] END colsample_bytree=0.6, gamma=0.3, learning_rate=0.01, max_depth=10, min_child_weight=4, n_estimators=134, subsample=0.8;, score=0.521 total time=  25.0s\n",
      "[CV 1/5] END colsample_bytree=1.0, gamma=0.1, learning_rate=0.01, max_depth=10, min_child_weight=4, n_estimators=134, subsample=0.8;, score=0.513 total time=  46.2s\n",
      "[CV 2/5] END colsample_bytree=1.0, gamma=0.1, learning_rate=0.01, max_depth=10, min_child_weight=4, n_estimators=134, subsample=0.8;, score=0.517 total time=  46.4s\n",
      "[CV 3/5] END colsample_bytree=1.0, gamma=0.1, learning_rate=0.01, max_depth=10, min_child_weight=4, n_estimators=134, subsample=0.8;, score=0.518 total time=  47.1s\n",
      "[CV 4/5] END colsample_bytree=1.0, gamma=0.1, learning_rate=0.01, max_depth=10, min_child_weight=4, n_estimators=134, subsample=0.8;, score=0.532 total time=  46.1s\n",
      "[CV 5/5] END colsample_bytree=1.0, gamma=0.1, learning_rate=0.01, max_depth=10, min_child_weight=4, n_estimators=134, subsample=0.8;, score=0.520 total time=  45.8s\n",
      "[CV 1/5] END colsample_bytree=0.7, gamma=0, learning_rate=0.3, max_depth=10, min_child_weight=4, n_estimators=134, subsample=0.6;, score=0.501 total time=  16.9s\n",
      "[CV 2/5] END colsample_bytree=0.7, gamma=0, learning_rate=0.3, max_depth=10, min_child_weight=4, n_estimators=134, subsample=0.6;, score=0.513 total time=  17.1s\n",
      "[CV 3/5] END colsample_bytree=0.7, gamma=0, learning_rate=0.3, max_depth=10, min_child_weight=4, n_estimators=134, subsample=0.6;, score=0.507 total time=  16.9s\n",
      "[CV 4/5] END colsample_bytree=0.7, gamma=0, learning_rate=0.3, max_depth=10, min_child_weight=4, n_estimators=134, subsample=0.6;, score=0.517 total time=  17.0s\n",
      "[CV 5/5] END colsample_bytree=0.7, gamma=0, learning_rate=0.3, max_depth=10, min_child_weight=4, n_estimators=134, subsample=0.6;, score=0.506 total time=  17.2s\n"
     ]
    },
    {
     "data": {
      "text/plain": [
       "RandomizedSearchCV(cv=5,\n",
       "                   estimator=XGBClassifier(base_score=None, booster=None,\n",
       "                                           callbacks=None,\n",
       "                                           colsample_bylevel=None,\n",
       "                                           colsample_bynode=None,\n",
       "                                           colsample_bytree=None,\n",
       "                                           early_stopping_rounds=None,\n",
       "                                           enable_categorical=False,\n",
       "                                           eval_metric=None, gamma=None,\n",
       "                                           gpu_id=None, grow_policy=None,\n",
       "                                           importance_type=None,\n",
       "                                           interaction_constraints=None,\n",
       "                                           learning_rate=None, max_bin=None,...\n",
       "                                           n_estimators=100, n_jobs=None,\n",
       "                                           num_parallel_tree=None,\n",
       "                                           predictor=None, random_state=None,\n",
       "                                           reg_alpha=None, reg_lambda=None, ...),\n",
       "                   param_distributions={'colsample_bytree': [0.6, 0.7, 0.8, 0.9,\n",
       "                                                             1.0],\n",
       "                                        'gamma': [0, 0.1, 0.2, 0.3, 0.4],\n",
       "                                        'learning_rate': [0.01, 0.05, 0.1, 0.2,\n",
       "                                                          0.3],\n",
       "                                        'max_depth': [10],\n",
       "                                        'min_child_weight': [4],\n",
       "                                        'n_estimators': [134],\n",
       "                                        'subsample': [0.6, 0.7, 0.8, 0.9, 1.0]},\n",
       "                   random_state=42, verbose=3)"
      ]
     },
     "execution_count": 300,
     "metadata": {},
     "output_type": "execute_result"
    }
   ],
   "source": [
    "# == rodar random search == \n",
    "\n",
    "model = XGBClassifier()\n",
    "random_search = RandomizedSearchCV(\n",
    "    model, \n",
    "    param_distributions=param_dist, \n",
    "    n_iter=10, \n",
    "    cv=5, \n",
    "    random_state=42,\n",
    "    verbose=3\n",
    ")\n",
    "random_search.fit(X_train, y_train)\n",
    "y_pred = random_search.predict(X_test)"
   ]
  },
  {
   "cell_type": "code",
   "execution_count": 256,
   "id": "12c77779",
   "metadata": {},
   "outputs": [
    {
     "data": {
      "text/plain": [
       "<Figure size 576x432 with 0 Axes>"
      ]
     },
     "execution_count": 256,
     "metadata": {},
     "output_type": "execute_result"
    },
    {
     "data": {
      "text/plain": [
       "<AxesSubplot:>"
      ]
     },
     "execution_count": 256,
     "metadata": {},
     "output_type": "execute_result"
    },
    {
     "data": {
      "text/plain": [
       "Text(0.5, 33.0, 'Predicted')"
      ]
     },
     "execution_count": 256,
     "metadata": {},
     "output_type": "execute_result"
    },
    {
     "data": {
      "text/plain": [
       "Text(51.0, 0.5, 'True')"
      ]
     },
     "execution_count": 256,
     "metadata": {},
     "output_type": "execute_result"
    },
    {
     "data": {
      "text/plain": [
       "Text(0.5, 1.0, 'Confusion Matrix')"
      ]
     },
     "execution_count": 256,
     "metadata": {},
     "output_type": "execute_result"
    },
    {
     "data": {
      "image/png": "[encoded data removed]",
      "text/plain": [
       "<Figure size 576x432 with 2 Axes>"
      ]
     },
     "metadata": {
      "needs_background": "light"
     },
     "output_type": "display_data"
    }
   ],
   "source": [
    "# == plotar matriz de confusão == \n",
    "\n",
    "res = confusion_matrix(y_test, y_pred)\n",
    "plt.figure(figsize=(8, 6))\n",
    "sns.heatmap(res, annot=True, cmap='Blues', fmt='g')\n",
    "plt.xlabel('Predicted')\n",
    "plt.ylabel('True')\n",
    "plt.title('Confusion Matrix')\n",
    "plt.show()"
   ]
  },
  {
   "cell_type": "code",
   "execution_count": null,
   "id": "84a2c2b9",
   "metadata": {},
   "outputs": [],
   "source": []
  }
 ],
 "metadata": {
  "kernelspec": {
   "display_name": "Python 3",
   "language": "python",
   "name": "python3"
  }
 },
 "nbformat": 4,
 "nbformat_minor": 5
}
